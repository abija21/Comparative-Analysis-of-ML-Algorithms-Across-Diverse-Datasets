{
 "cells": [
  {
   "cell_type": "code",
   "execution_count": 1,
   "id": "5f1a58bd-098f-4e75-826a-735851c6f250",
   "metadata": {},
   "outputs": [],
   "source": [
    "import numpy as np\n",
    "import pandas as pd\n",
    "from sklearn.metrics import accuracy_score, f1_score\n",
    "import matplotlib.pyplot as plt"
   ]
  },
  {
   "cell_type": "code",
   "execution_count": 3,
   "id": "76d49826-513c-49ed-86f8-c16cf77a814e",
   "metadata": {},
   "outputs": [],
   "source": [
    "# Load and preprocess the dataset\n",
    "def load_and_preprocess_data(filepath):\n",
    "    data = pd.read_csv(filepath)\n",
    "    data = data.drop(columns=['Name'])\n",
    "    categorical_cols = ['Sex', 'Pclass']\n",
    "    data = pd.get_dummies(data, columns=categorical_cols)\n",
    "    numeric_cols = ['Age', 'Siblings/Spouses Aboard', 'Parents/Children Aboard', 'Fare']\n",
    "    for col in numeric_cols:\n",
    "        data[col] = (data[col] - data[col].min()) / (data[col].max() - data[col].min())\n",
    "    return data"
   ]
  },
  {
   "cell_type": "code",
   "execution_count": 5,
   "id": "9db5fa52-f23b-4a91-b83b-e15367f74087",
   "metadata": {},
   "outputs": [],
   "source": [
    "# Splitting data for cross-validation\n",
    "def stratified_k_fold(data, k=10):\n",
    "    data = data.sample(frac=1).reset_index(drop=True)\n",
    "    folds = []\n",
    "    targets = data['Survived']\n",
    "    target_classes = targets.unique()\n",
    "\n",
    "    for i in range(k):\n",
    "        fold = pd.concat([data[targets == target].iloc[i::k] for target in target_classes])\n",
    "        folds.append(fold)\n",
    "    return folds"
   ]
  },
  {
   "cell_type": "code",
   "execution_count": 7,
   "id": "291cda76-ba11-4fbe-9d0f-df7f61114437",
   "metadata": {},
   "outputs": [],
   "source": [
    "class DecisionTree:\n",
    "    def __init__(self, max_depth):\n",
    "        self.max_depth = max_depth\n",
    "\n",
    "    def fit(self, X, y):\n",
    "        self.tree = self._build_tree(X, y)\n",
    "\n",
    "    def _build_tree(self, X, y, depth=0):\n",
    "        if len(y.unique()) == 1 or depth >= self.max_depth:\n",
    "            return {'label': y.mode()[0]}\n",
    "        best_feature, best_threshold = self._choose_best_feature(X, y)\n",
    "        if best_feature is None:\n",
    "            return {'label': y.mode()[0]}\n",
    "        left_idx = X[best_feature] <= best_threshold\n",
    "        right_idx = X[best_feature] > best_threshold\n",
    "        left_tree = self._build_tree(X[left_idx], y[left_idx], depth+1)\n",
    "        right_tree = self._build_tree(X[right_idx], y[right_idx], depth+1)\n",
    "        return {'feature': best_feature, 'threshold': best_threshold, 'left': left_tree, 'right': right_tree}\n",
    "\n",
    "    def _choose_best_feature(self, X, y):\n",
    "        best_gain = 0\n",
    "        best_feature = None\n",
    "        best_threshold = None\n",
    "        for feature in X.columns:\n",
    "            sorted_values = np.sort(X[feature].unique())\n",
    "            possible_thresholds = (sorted_values[:-1] + sorted_values[1:]) / 2\n",
    "            for threshold in possible_thresholds:\n",
    "                left_y = y[X[feature] <= threshold]\n",
    "                right_y = y[X[feature] > threshold]\n",
    "                if left_y.empty or right_y.empty:\n",
    "                    continue\n",
    "                gain = self._information_gain(y, left_y, right_y)\n",
    "                if gain > best_gain:\n",
    "                    best_gain = gain\n",
    "                    best_feature = feature\n",
    "                    best_threshold = threshold\n",
    "        return best_feature, best_threshold\n",
    "\n",
    "    def _information_gain(self, y, left_y, right_y):\n",
    "        def entropy(s):\n",
    "            counts = np.bincount(s)\n",
    "            probabilities = counts / len(s)\n",
    "            return -np.sum([p * np.log2(p) for p in probabilities if p > 0])\n",
    "        total_entropy = entropy(y)\n",
    "        left_entropy = entropy(left_y)\n",
    "        right_entropy = entropy(right_y)\n",
    "        return total_entropy - (len(left_y) / len(y) * left_entropy + len(right_y) / len(y) * right_entropy)\n",
    "\n",
    "    def predict(self, X):\n",
    "        predictions = X.apply(self._predict_row, axis=1)\n",
    "        return predictions\n",
    "\n",
    "    def _predict_row(self, row):\n",
    "        node = self.tree\n",
    "        while 'label' not in node:\n",
    "            node = node['left'] if row[node['feature']] <= node['threshold'] else node['right']\n",
    "        return node['label']"
   ]
  },
  {
   "cell_type": "code",
   "execution_count": 9,
   "id": "2ab86fcf-dab2-4bf3-a764-36b2a12424ec",
   "metadata": {},
   "outputs": [],
   "source": [
    "def multiple_iterations(data, depth, iterations=100):\n",
    "    accuracies = []\n",
    "    f1_scores = []\n",
    "    for _ in range(iterations):\n",
    "        folds = stratified_k_fold(data)\n",
    "        fold_accuracies = []\n",
    "        fold_f1_scores = []\n",
    "        for i in range(len(folds)):\n",
    "            train_folds = folds[:i] + folds[i+1:]\n",
    "            test_fold = folds[i]\n",
    "            train_data = pd.concat(train_folds)\n",
    "            test_data = test_fold\n",
    "            X_train, y_train = train_data.drop(columns=['Survived'], axis=1), train_data['Survived']\n",
    "            X_test, y_test = test_data.drop(columns=['Survived'], axis=1), test_data['Survived']\n",
    "            tree = DecisionTree(max_depth=depth)\n",
    "            tree.fit(X_train, y_train)\n",
    "            predictions = tree.predict(X_test)\n",
    "            fold_accuracies.append(accuracy_score(y_test, predictions))\n",
    "            fold_f1_scores.append(f1_score(y_test, predictions))\n",
    "        accuracies.append(np.mean(fold_accuracies))\n",
    "        f1_scores.append(np.mean(fold_f1_scores))\n",
    "\n",
    "\n",
    "    print(f\"Average Accuracy: {np.mean(accuracies):.4f}, Std Dev: {np.std(accuracies):.4f}\")\n",
    "    print(f\"Average F1 Score: {np.mean(f1_scores):.4f}, Std Dev: {np.std(f1_scores):.4f}\")\n",
    "    plt.figure(figsize=(12, 5))\n",
    "    plt.subplot(1, 2, 1)\n",
    "    plt.hist(accuracies, bins=10, color='lightblue')\n",
    "    plt.title('Histogram of Accuracies')\n",
    "    plt.xlabel('Accuracy')\n",
    "    plt.ylabel('Frequency')\n",
    "    plt.subplot(1, 2, 2)\n",
    "    plt.hist(f1_scores, bins=10, color='lightblue')\n",
    "    plt.title('Histogram of F1 Scores')\n",
    "    plt.xlabel('F1 Score')\n",
    "    plt.ylabel('Frequency')\n",
    "    plt.tight_layout()\n",
    "    plt.show()"
   ]
  },
  {
   "cell_type": "code",
   "execution_count": 12,
   "id": "2d246d2e-0f68-4482-984c-d0af1f30dac5",
   "metadata": {},
   "outputs": [
    {
     "name": "stdout",
     "output_type": "stream",
     "text": [
      "Average Accuracy: 0.8261, Std Dev: 0.0036\n",
      "Average F1 Score: 0.7592, Std Dev: 0.0053\n"
     ]
    },
    {
     "data": {
      "image/png": "[encoded data removed]",
      "text/plain": [
       "<Figure size 1200x500 with 2 Axes>"
      ]
     },
     "metadata": {},
     "output_type": "display_data"
    }
   ],
   "source": [
    "if __name__ == \"__main__\":\n",
    "    filepath = 'titanic.csv'\n",
    "    data = load_and_preprocess_data(filepath)\n",
    "    # print(data)\n",
    "    depth = 5\n",
    "    multiple_iterations(data, depth)"
   ]
  },
  {
   "cell_type": "code",
   "execution_count": null,
   "id": "b1e17031-2b51-48d3-a1b3-09283a842dbf",
   "metadata": {},
   "outputs": [],
   "source": []
  }
 ],
 "metadata": {
  "kernelspec": {
   "display_name": "Python [conda env:base]",
   "language": "python",
   "name": "conda-base-py"
  },
  "language_info": {
   "codemirror_mode": {
    "name": "ipython",
    "version": 3
   },
   "file_extension": ".py",
   "mimetype": "text/x-python",
   "name": "python",
   "nbconvert_exporter": "python",
   "pygments_lexer": "ipython3",
   "version": "3.12.7"
  }
 },
 "nbformat": 4,
 "nbformat_minor": 5
}
